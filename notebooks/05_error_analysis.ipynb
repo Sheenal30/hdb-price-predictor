{
 "cells": [
  {
   "cell_type": "code",
   "execution_count": 1,
   "id": "003ff1ff",
   "metadata": {},
   "outputs": [],
   "source": [
    "import pandas as pd\n",
    "import numpy as np\n",
    "from pathlib import Path\n",
    "import joblib\n",
    "from sklearn.ensemble import RandomForestRegressor\n",
    "from sklearn.metrics import mean_absolute_error\n",
    "\n",
    "# Project root setup\n",
    "try:\n",
    "    PROJECT_ROOT = Path(__file__).resolve().parent.parent\n",
    "except NameError:\n",
    "    PROJECT_ROOT = Path('.').resolve().parent\n",
    "\n",
    "# Load data and model\n",
    "X_train = pd.read_csv(PROJECT_ROOT / \"data/processed/X_train_processed.csv\")\n",
    "y_train = pd.read_csv(PROJECT_ROOT / \"data/processed/y_train_processed.csv\").squeeze()\n",
    "X_test = pd.read_csv(PROJECT_ROOT / \"data/processed/X_test_processed.csv\")\n",
    "y_test = pd.read_csv(PROJECT_ROOT / \"data/processed/y_test_processed.csv\").squeeze()\n",
    "\n",
    "# Load original categorical test data\n",
    "df_test_original_categorical = pd.read_csv(PROJECT_ROOT / \"data/processed/df_test_original_categorical.csv\")\n",
    "\n",
    "# Load trained model\n",
    "rf = joblib.load(PROJECT_ROOT / \"models/random_forest_model.joblib\")\n",
    "\n",
    "# Load baseline MAE\n",
    "metrics_df = pd.read_csv(PROJECT_ROOT / \"reports/model_metrics.csv\")\n",
    "mae = metrics_df.loc[metrics_df['model'] == 'RandomForest', 'MAE_SGD'].iloc[0]"
   ]
  },
  {
   "cell_type": "code",
   "execution_count": 2,
   "id": "49a8b8af",
   "metadata": {},
   "outputs": [
    {
     "name": "stdout",
     "output_type": "stream",
     "text": [
      "\n",
      "Top-20 worst absolute errors\n",
      "          actual     predicted      abs_error  sale_year        town flat_type\n",
      "34522  1400000.0  7.799399e+05  620060.056667       2025   toa_payoh    5_room\n",
      "34523  1400000.0  8.069343e+05  593065.713333       2025   toa_payoh    5_room\n",
      "34526  1360000.0  7.780368e+05  581963.250000       2025   toa_payoh    5_room\n",
      "34524  1360000.0  7.828199e+05  577180.100000       2025   toa_payoh    5_room\n",
      "34543  1370000.0  8.038904e+05  566109.566667       2025   toa_payoh    5_room\n",
      "34525  1342000.0  7.770663e+05  564933.709143       2025   toa_payoh    5_room\n",
      "34518  1340000.0  7.844338e+05  555566.150267       2025   toa_payoh    5_room\n",
      "34527  1335000.0  7.800265e+05  554973.482476       2025   toa_payoh    5_room\n",
      "34521  1320000.0  7.898874e+05  530112.591200       2025   toa_payoh    5_room\n",
      "34517  1330000.0  8.041716e+05  525828.413600       2025   toa_payoh    5_room\n",
      "17793  1050000.0  5.615727e+05  488427.320000       2024       bedok    5_room\n",
      "34519  1268000.0  7.802801e+05  487719.872933       2025   toa_payoh    5_room\n",
      "12347  1340000.0  8.540105e+05  485989.546667       2024   toa_payoh    5_room\n",
      "37572  1070000.0  5.858236e+05  484176.420000       2025       bedok    5_room\n",
      "39056  1230000.0  7.507388e+05  479261.200000       2025      bishan    4_room\n",
      "12348  1310000.0  8.335362e+05  476463.814667       2024   toa_payoh    5_room\n",
      "17633  1260000.0  7.909320e+05  469067.960000       2024       bedok    5_room\n",
      "30859  1658888.0  1.199759e+06  459129.120000       2025  queenstown    5_room\n",
      "34607  1600000.0  1.155072e+06  444928.480000       2025   toa_payoh    5_room\n",
      "17702  1300000.0  8.566105e+05  443389.506667       2024       bedok    5_room\n"
     ]
    }
   ],
   "source": [
    "# Error Analysis\n",
    "\n",
    "# Attach predictions & error to test frame\n",
    "test_preds = rf.predict(X_test)\n",
    "test_df = X_test.copy()\n",
    "test_df[\"actual\"] = y_test.values\n",
    "test_df[\"predicted\"] = test_preds\n",
    "test_df[\"abs_error\"] = (test_df[\"actual\"] - test_df[\"predicted\"]).abs()\n",
    "\n",
    "def reconstruct_category(df, prefix):\n",
    "    # Reconstructs a single categorical column from its one-hot encoded dummy columns.\n",
    "    # Find all columns that start with the given prefix\n",
    "    category_dummy_cols = [col for col in df.columns if col.startswith(prefix)]\n",
    "    if not category_dummy_cols:\n",
    "        # If no dummy columns are found for this prefix, return NaNs\n",
    "        return pd.Series(np.nan, index=df.index, name=prefix.rstrip('_'))\n",
    "    reconstructed_series = df[category_dummy_cols].idxmax(axis=1).str.replace(prefix, '')\n",
    "    return reconstructed_series\n",
    "\n",
    "\n",
    "# Bring back original categorical columns for analysis\n",
    "test_df['town'] = reconstruct_category(test_df, 'town_')\n",
    "test_df['flat_type'] = reconstruct_category(test_df, 'flat_type_')\n",
    "\n",
    "# 5.1.2 Top-20 worst absolute errors\n",
    "worst20 = test_df.sort_values(\"abs_error\", ascending=False).head(20)\n",
    "display_cols = [\"actual\", \"predicted\", \"abs_error\",\n",
    "                \"sale_year\", \"town\", \"flat_type\"] # Changed to 'town', 'flat_type' now that they are reconstructed\n",
    "print(\"\\nTop-20 worst absolute errors\")\n",
    "print(worst20[display_cols].to_string())"
   ]
  },
  {
   "cell_type": "code",
   "execution_count": 3,
   "id": "70c345b3",
   "metadata": {},
   "outputs": [
    {
     "name": "stdout",
     "output_type": "stream",
     "text": [
      "\n",
      "Worst towns by MAE\n",
      "town\n",
      "bishan             93900.855922\n",
      "bukit_timah        90761.063945\n",
      "kallang_whampoa    85994.850514\n",
      "serangoon          84270.885236\n",
      "toa_payoh          79984.550668\n",
      "central_area       75347.186024\n",
      "queenstown         75182.501554\n",
      "geylang            70670.526312\n",
      "sengkang           68454.167353\n",
      "bukit_merah        67913.570122\n",
      "Name: error, dtype: float64\n",
      "\n",
      "Worst flat_types by MAE\n",
      "flat_type\n",
      "multi_generation    158238.371215\n",
      "executive            77346.377792\n",
      "5_room               69192.965932\n",
      "4_room               64254.267024\n",
      "3_room               42910.146757\n",
      "2_room               30828.514638\n",
      "Name: error, dtype: float64\n"
     ]
    }
   ],
   "source": [
    "# 5 .1 .3    Error slices – town & flat_type\n",
    "def mae_by(group_col):\n",
    "    return (test_df\n",
    "            .assign(error=test_df[\"abs_error\"])\n",
    "            .groupby(group_col)[\"error\"]\n",
    "            .mean()\n",
    "            .sort_values(ascending=False)\n",
    "            .head(10))\n",
    "\n",
    "print(\"\\nWorst towns by MAE\")\n",
    "print(mae_by(\"town\"))\n",
    "\n",
    "print(\"\\nWorst flat_types by MAE\")\n",
    "print(mae_by(\"flat_type\"))"
   ]
  },
  {
   "cell_type": "code",
   "execution_count": 5,
   "id": "1699af36",
   "metadata": {},
   "outputs": [],
   "source": [
    "# Check file existence\n",
    "if not (PROJECT_ROOT / \"models/random_forest_model.joblib\").exists():\n",
    "    raise FileNotFoundError(\"Model file missing - run 04_tree_model.ipynb first\")\n",
    "\n",
    "# Safe category reconstruction\n",
    "def safe_reconstruct_category(df, prefix):\n",
    "    cols = [col for col in df.columns if col.startswith(prefix)]\n",
    "    if not cols:\n",
    "        return pd.Series('unknown', index=df.index)\n",
    "    \n",
    "    # Handle all-zero rows\n",
    "    max_cols = df[cols].idxmax(axis=1)\n",
    "    result = max_cols.str.replace(prefix, '')\n",
    "    result[df[cols].sum(axis=1) == 0] = 'unknown'\n",
    "    return result\n"
   ]
  },
  {
   "cell_type": "code",
   "execution_count": 7,
   "id": "cdd8f4f5",
   "metadata": {},
   "outputs": [
    {
     "name": "stdout",
     "output_type": "stream",
     "text": [
      "\n",
      "Evaluating log-transformed target model...\n",
      "\n",
      "Baseline MAE : 59,963 SGD\n",
      "Log-target MAE: 61,160 SGD  (Δ -1,197)\n",
      "\n",
      "Phase 5: Error analysis complete.\n"
     ]
    }
   ],
   "source": [
    "# ---------------------------------------------------------------\n",
    "# 5 .2    Tiny improvement – log-transform price\n",
    "# ---------------------------------------------------------------\n",
    "print(\"\\nEvaluating log-transformed target model...\")\n",
    "\n",
    "y_train_log = np.log1p(y_train)\n",
    "rf_log = RandomForestRegressor(\n",
    "            n_estimators=100,\n",
    "            n_jobs=-1,\n",
    "            random_state=42)\n",
    "rf_log.fit(X_train, y_train_log)\n",
    "\n",
    "# Back-transform predictions\n",
    "preds_log = np.expm1(rf_log.predict(X_test))\n",
    "mae_log = mean_absolute_error(y_test, preds_log)\n",
    "\n",
    "print(f\"\\nBaseline MAE : {mae:,.0f} SGD\")\n",
    "print(f\"Log-target MAE: {mae_log:,.0f} SGD  (Δ {mae-mae_log:,.0f})\")\n",
    "\n",
    "print(\"\\nPhase 5: Error analysis complete.\")"
   ]
  }
 ],
 "metadata": {
  "kernelspec": {
   "display_name": "hdb-price-predictor",
   "language": "python",
   "name": "python3"
  },
  "language_info": {
   "codemirror_mode": {
    "name": "ipython",
    "version": 3
   },
   "file_extension": ".py",
   "mimetype": "text/x-python",
   "name": "python",
   "nbconvert_exporter": "python",
   "pygments_lexer": "ipython3",
   "version": "3.11.13"
  }
 },
 "nbformat": 4,
 "nbformat_minor": 5
}
